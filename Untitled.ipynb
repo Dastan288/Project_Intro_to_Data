{
  "nbformat": 4,
  "nbformat_minor": 0,
  "metadata": {
    "kernelspec": {
      "display_name": "Python 3",
      "language": "python",
      "name": "python3"
    },
    "language_info": {
      "codemirror_mode": {
        "name": "ipython",
        "version": 3
      },
      "file_extension": ".py",
      "mimetype": "text/x-python",
      "name": "python",
      "nbconvert_exporter": "python",
      "pygments_lexer": "ipython3",
      "version": "3.8.3"
    },
    "colab": {
      "name": "Untitled.ipynb",
      "provenance": [],
      "collapsed_sections": [],
      "include_colab_link": true
    }
  },
  "cells": [
    {
      "cell_type": "markdown",
      "metadata": {
        "id": "view-in-github",
        "colab_type": "text"
      },
      "source": [
        "<a href=\"https://colab.research.google.com/github/Dastan288/Project_Intro_to_Data/blob/master/Untitled.ipynb\" target=\"_parent\"><img src=\"https://colab.research.google.com/assets/colab-badge.svg\" alt=\"Open In Colab\"/></a>"
      ]
    },
    {
      "cell_type": "code",
      "metadata": {
        "colab": {
          "base_uri": "https://localhost:8080/"
        },
        "id": "poPznYdbCUKl",
        "outputId": "691d9f87-7f11-44c6-86c6-26591ba5a95a"
      },
      "source": [
        "#importing libraries\r\n",
        "!pip install selenium\r\n",
        "!pip install webdriver_manager\r\n",
        "\r\n",
        "import bs4\r\n",
        "import json\r\n",
        "from bs4 import BeautifulSoup as soup\r\n",
        "import requests\r\n",
        "from bs4 import BeautifulSoup\r\n",
        "import pandas as pd\r\n",
        "import numpy as np\r\n",
        "from selenium import webdriver\r\n",
        "from selenium.webdriver.common.keys import Keys\r\n",
        "from time import sleep\r\n",
        "import random\r\n",
        "from webdriver_manager.chrome import ChromeDriverManager\r\n",
        "from webdriver_manager.utils import ChromeType\r\n"
      ],
      "execution_count": 1,
      "outputs": [
        {
          "output_type": "stream",
          "text": [
            "Collecting selenium\n",
            "\u001b[?25l  Downloading https://files.pythonhosted.org/packages/80/d6/4294f0b4bce4de0abf13e17190289f9d0613b0a44e5dd6a7f5ca98459853/selenium-3.141.0-py2.py3-none-any.whl (904kB)\n",
            "\u001b[K     |████████████████████████████████| 911kB 5.5MB/s \n",
            "\u001b[?25hRequirement already satisfied: urllib3 in /usr/local/lib/python3.6/dist-packages (from selenium) (1.24.3)\n",
            "Installing collected packages: selenium\n",
            "Successfully installed selenium-3.141.0\n",
            "Collecting webdriver_manager\n",
            "  Downloading https://files.pythonhosted.org/packages/2a/88/bc1f85fd733cf6bcae3c6e5c86ea124e91c49eb694d47dfef7f37f4394eb/webdriver_manager-3.2.2-py2.py3-none-any.whl\n",
            "Collecting crayons\n",
            "  Downloading https://files.pythonhosted.org/packages/5b/0d/e3fad4ca1de8e70e06444e7d777a5984261e1db98758b5be3e8296c03fe9/crayons-0.4.0-py2.py3-none-any.whl\n",
            "Collecting configparser\n",
            "  Downloading https://files.pythonhosted.org/packages/08/b2/ef713e0e67f6e7ec7d59aea3ee78d05b39c15930057e724cc6d362a8c3bb/configparser-5.0.1-py3-none-any.whl\n",
            "Requirement already satisfied: requests in /usr/local/lib/python3.6/dist-packages (from webdriver_manager) (2.23.0)\n",
            "Collecting colorama\n",
            "  Downloading https://files.pythonhosted.org/packages/44/98/5b86278fbbf250d239ae0ecb724f8572af1c91f4a11edf4d36a206189440/colorama-0.4.4-py2.py3-none-any.whl\n",
            "Requirement already satisfied: urllib3!=1.25.0,!=1.25.1,<1.26,>=1.21.1 in /usr/local/lib/python3.6/dist-packages (from requests->webdriver_manager) (1.24.3)\n",
            "Requirement already satisfied: chardet<4,>=3.0.2 in /usr/local/lib/python3.6/dist-packages (from requests->webdriver_manager) (3.0.4)\n",
            "Requirement already satisfied: idna<3,>=2.5 in /usr/local/lib/python3.6/dist-packages (from requests->webdriver_manager) (2.10)\n",
            "Requirement already satisfied: certifi>=2017.4.17 in /usr/local/lib/python3.6/dist-packages (from requests->webdriver_manager) (2020.12.5)\n",
            "Installing collected packages: colorama, crayons, configparser, webdriver-manager\n",
            "Successfully installed colorama-0.4.4 configparser-5.0.1 crayons-0.4.0 webdriver-manager-3.2.2\n"
          ],
          "name": "stdout"
        }
      ]
    },
    {
      "cell_type": "code",
      "metadata": {
        "colab": {
          "base_uri": "https://localhost:8080/"
        },
        "id": "IWZM2yiGIu15",
        "outputId": "6aeb5095-9d9f-450f-e645-470f6fe4eb64"
      },
      "source": [
        "!apt install chromium-chromedriver"
      ],
      "execution_count": 2,
      "outputs": [
        {
          "output_type": "stream",
          "text": [
            "Reading package lists... Done\n",
            "Building dependency tree       \n",
            "Reading state information... Done\n",
            "The following additional packages will be installed:\n",
            "  chromium-browser chromium-browser-l10n chromium-codecs-ffmpeg-extra\n",
            "Suggested packages:\n",
            "  webaccounts-chromium-extension unity-chromium-extension adobe-flashplugin\n",
            "The following NEW packages will be installed:\n",
            "  chromium-browser chromium-browser-l10n chromium-chromedriver\n",
            "  chromium-codecs-ffmpeg-extra\n",
            "0 upgraded, 4 newly installed, 0 to remove and 13 not upgraded.\n",
            "Need to get 81.0 MB of archives.\n",
            "After this operation, 273 MB of additional disk space will be used.\n",
            "Get:1 http://archive.ubuntu.com/ubuntu bionic-updates/universe amd64 chromium-codecs-ffmpeg-extra amd64 87.0.4280.66-0ubuntu0.18.04.1 [1,122 kB]\n",
            "Get:2 http://archive.ubuntu.com/ubuntu bionic-updates/universe amd64 chromium-browser amd64 87.0.4280.66-0ubuntu0.18.04.1 [71.7 MB]\n",
            "Get:3 http://archive.ubuntu.com/ubuntu bionic-updates/universe amd64 chromium-browser-l10n all 87.0.4280.66-0ubuntu0.18.04.1 [3,716 kB]\n",
            "Get:4 http://archive.ubuntu.com/ubuntu bionic-updates/universe amd64 chromium-chromedriver amd64 87.0.4280.66-0ubuntu0.18.04.1 [4,488 kB]\n",
            "Fetched 81.0 MB in 3s (24.1 MB/s)\n",
            "Selecting previously unselected package chromium-codecs-ffmpeg-extra.\n",
            "(Reading database ... 146374 files and directories currently installed.)\n",
            "Preparing to unpack .../chromium-codecs-ffmpeg-extra_87.0.4280.66-0ubuntu0.18.04.1_amd64.deb ...\n",
            "Unpacking chromium-codecs-ffmpeg-extra (87.0.4280.66-0ubuntu0.18.04.1) ...\n",
            "Selecting previously unselected package chromium-browser.\n",
            "Preparing to unpack .../chromium-browser_87.0.4280.66-0ubuntu0.18.04.1_amd64.deb ...\n",
            "Unpacking chromium-browser (87.0.4280.66-0ubuntu0.18.04.1) ...\n",
            "Selecting previously unselected package chromium-browser-l10n.\n",
            "Preparing to unpack .../chromium-browser-l10n_87.0.4280.66-0ubuntu0.18.04.1_all.deb ...\n",
            "Unpacking chromium-browser-l10n (87.0.4280.66-0ubuntu0.18.04.1) ...\n",
            "Selecting previously unselected package chromium-chromedriver.\n",
            "Preparing to unpack .../chromium-chromedriver_87.0.4280.66-0ubuntu0.18.04.1_amd64.deb ...\n",
            "Unpacking chromium-chromedriver (87.0.4280.66-0ubuntu0.18.04.1) ...\n",
            "Setting up chromium-codecs-ffmpeg-extra (87.0.4280.66-0ubuntu0.18.04.1) ...\n",
            "Setting up chromium-browser (87.0.4280.66-0ubuntu0.18.04.1) ...\n",
            "update-alternatives: using /usr/bin/chromium-browser to provide /usr/bin/x-www-browser (x-www-browser) in auto mode\n",
            "update-alternatives: using /usr/bin/chromium-browser to provide /usr/bin/gnome-www-browser (gnome-www-browser) in auto mode\n",
            "Setting up chromium-chromedriver (87.0.4280.66-0ubuntu0.18.04.1) ...\n",
            "Setting up chromium-browser-l10n (87.0.4280.66-0ubuntu0.18.04.1) ...\n",
            "Processing triggers for hicolor-icon-theme (0.17-2) ...\n",
            "Processing triggers for mime-support (3.60ubuntu1) ...\n",
            "Processing triggers for man-db (2.8.3-2ubuntu0.1) ...\n"
          ],
          "name": "stdout"
        }
      ]
    },
    {
      "cell_type": "code",
      "metadata": {
        "id": "hhTe5whTJTE3"
      },
      "source": [
        "options = webdriver.ChromeOptions()\r\n",
        "options.add_argument('--headless')\r\n",
        "options.add_argument('--no-sandbox')\r\n",
        "options.add_argument('--disable-dev-shm-usage')"
      ],
      "execution_count": 3,
      "outputs": []
    },
    {
      "cell_type": "code",
      "metadata": {
        "id": "U-YOq9xrCzBF"
      },
      "source": [
        "\r\n",
        "base_url = \"https://krisha.kz\"\r\n",
        "headers = {'accept' : 'text/html,application/xhtml+xml,application/xml;q=0.9,image/avif,image/webp,image/apng,*/*;q=0.8,application/signed-exchange;v=b3;q=0.9',\r\n",
        "           'user-agent' : 'Mozilla/5.0 (Windows NT 10.0; Win64; x64) AppleWebKit/537.36 (KHTML, like Gecko) Chrome/87.0.4280.88 Safari/537.36'}\r\n"
      ],
      "execution_count": 4,
      "outputs": []
    },
    {
      "cell_type": "code",
      "metadata": {
        "id": "ZwED5W3NCzRA"
      },
      "source": [
        "site = 'https://krisha.kz/prodazha/kvartiry/nur-sultan/'\r\n",
        "driver = webdriver.Chrome('chromedriver',options=options)\r\n",
        "driver.get(site)\r\n"
      ],
      "execution_count": 5,
      "outputs": []
    },
    {
      "cell_type": "code",
      "metadata": {
        "id": "LFkuuK24CzTv",
        "colab": {
          "base_uri": "https://localhost:8080/"
        },
        "outputId": "12a18fd7-7992-4110-e800-c9c258d48f71"
      },
      "source": [
        "apartment_list = driver.find_elements_by_class_name(\"a-card__image\")\r\n",
        "for e in apartment_list:\r\n",
        "  print(e.get_attribute('href'))"
      ],
      "execution_count": 6,
      "outputs": [
        {
          "output_type": "stream",
          "text": [
            "https://krisha.kz/a/show/663827406\n",
            "https://krisha.kz/a/show/664506815\n",
            "https://krisha.kz/a/show/663339909\n",
            "https://krisha.kz/a/show/50457630\n",
            "https://krisha.kz/a/show/663481340\n",
            "https://krisha.kz/a/show/662789746\n",
            "https://krisha.kz/a/show/664335514\n",
            "https://krisha.kz/a/show/25247422\n",
            "https://krisha.kz/a/show/20164775\n",
            "https://krisha.kz/a/show/664623435\n",
            "https://krisha.kz/a/show/664597469\n",
            "https://krisha.kz/a/show/664591907\n",
            "https://krisha.kz/a/show/53785943\n",
            "https://krisha.kz/a/show/52970409\n",
            "https://krisha.kz/a/show/663844447\n",
            "https://krisha.kz/a/show/664542659\n",
            "https://krisha.kz/a/show/662907443\n",
            "https://krisha.kz/a/show/664181912\n",
            "https://krisha.kz/a/show/664294492\n",
            "https://krisha.kz/a/show/664343425\n",
            "https://krisha.kz/a/show/662743542\n"
          ],
          "name": "stdout"
        }
      ]
    },
    {
      "cell_type": "code",
      "metadata": {
        "id": "qEpCzRlXCzWE"
      },
      "source": [
        "apartmentlinks = []\r\n",
        "for x in range (1,18):\r\n",
        "  driver.get(f\"https://krisha.kz/prodazha/kvartiry/nur-sultan/?page={x}\")\r\n",
        "  apartment_list = driver.find_elements_by_class_name(\"a-card__image\")\r\n",
        "  for link in apartment_list:\r\n",
        "    apartmentlinks.append(link.get_attribute('href'))\r\n"
      ],
      "execution_count": 7,
      "outputs": []
    },
    {
      "cell_type": "code",
      "metadata": {
        "id": "Ya_Oe64ZTnPx",
        "colab": {
          "base_uri": "https://localhost:8080/"
        },
        "outputId": "40d5847a-00f9-4696-9793-b925aae50fdc"
      },
      "source": [
        "len(apartmentlinks)"
      ],
      "execution_count": 8,
      "outputs": [
        {
          "output_type": "execute_result",
          "data": {
            "text/plain": [
              "341"
            ]
          },
          "metadata": {
            "tags": []
          },
          "execution_count": 8
        }
      ]
    },
    {
      "cell_type": "code",
      "metadata": {
        "id": "tGvVE20eCzZd"
      },
      "source": [
        "for x in range (19,57):\r\n",
        "  driver.get(f\"https://krisha.kz/prodazha/kvartiry/nur-sultan/?page={x}\")\r\n",
        "  apartment_list = driver.find_elements_by_class_name(\"a-card__image\")\r\n",
        "  for link in apartment_list:\r\n",
        "    apartmentlinks.append(link.get_attribute('href'))"
      ],
      "execution_count": 9,
      "outputs": []
    },
    {
      "cell_type": "code",
      "metadata": {
        "id": "WDh48MqzXCm4",
        "colab": {
          "base_uri": "https://localhost:8080/"
        },
        "outputId": "955531ef-f98d-44b3-8352-9a9b3bb1a35f"
      },
      "source": [
        "len(apartmentlinks)"
      ],
      "execution_count": 10,
      "outputs": [
        {
          "output_type": "execute_result",
          "data": {
            "text/plain": [
              "1101"
            ]
          },
          "metadata": {
            "tags": []
          },
          "execution_count": 10
        }
      ]
    },
    {
      "cell_type": "code",
      "metadata": {
        "colab": {
          "base_uri": "https://localhost:8080/"
        },
        "id": "otOVApZXCUK0",
        "outputId": "5ee68bb1-fe82-45e9-cb9a-2f871ff59899"
      },
      "source": [
        "apartmentlinks = list(dict.fromkeys(apartmentlinks))\r\n",
        "len(apartmentlinks)"
      ],
      "execution_count": 11,
      "outputs": [
        {
          "output_type": "execute_result",
          "data": {
            "text/plain": [
              "1098"
            ]
          },
          "metadata": {
            "tags": []
          },
          "execution_count": 11
        }
      ]
    },
    {
      "cell_type": "code",
      "metadata": {
        "colab": {
          "base_uri": "https://localhost:8080/",
          "height": 35
        },
        "id": "XlkGGodXb_rF",
        "outputId": "e83adf8f-2a2e-40ff-ab9d-4903179fda77"
      },
      "source": [
        "\r\n",
        "\r\n",
        "apartmentlinks[29]"
      ],
      "execution_count": null,
      "outputs": [
        {
          "output_type": "execute_result",
          "data": {
            "application/vnd.google.colaboratory.intrinsic+json": {
              "type": "string"
            },
            "text/plain": [
              "'https://krisha.kz/a/show/661987122'"
            ]
          },
          "metadata": {
            "tags": []
          },
          "execution_count": 166
        }
      ]
    },
    {
      "cell_type": "code",
      "metadata": {
        "id": "5l5NPcnvYwXV",
        "colab": {
          "base_uri": "https://localhost:8080/"
        },
        "outputId": "d42a2845-e7a3-424d-a6c0-f9c5c097e2b9"
      },
      "source": [
        "apartments = []\r\n",
        "d = 'Norm'\r\n",
        "for links in apartmentlinks:\r\n",
        "  try:\r\n",
        "    driver.get(links)\r\n",
        "  except:\r\n",
        "    d = 'False link'\r\n",
        "  try:\r\n",
        "    title = driver.find_element_by_xpath('/html/body/main/div[2]/div/div[1]/h1').text\r\n",
        "  except:\r\n",
        "    title = 'No title'\r\n",
        "  try:\r\n",
        "    price = driver.find_element_by_xpath('.//div[2]/div/div[2]/div[1]/div[1]/div[1]/div').text\r\n",
        "    price = price.replace('\\n〒','')\r\n",
        "  except:\r\n",
        "    price = 'Цена договорная'\r\n",
        "  try:\r\n",
        "    city = driver.find_element_by_xpath('/html/body/main/div[2]/div/div[2]/div[1]/div[1]/div[2]/div[1]/div[3]').text\r\n",
        "  except:\r\n",
        "    city = 'Нұр-Сұлтан (Астана)'\r\n",
        "  try:\r\n",
        "    author = driver.find_element_by_class_name('owners__name').text\r\n",
        "  except:\r\n",
        "    author = 'Хозяин недвижомости'\r\n",
        "  try:\r\n",
        "    house_year = driver.find_element_by_xpath('/html/body/main/div[2]/div/div[2]/div[1]/div[1]/div[2]/div[2]/div[3]').text\r\n",
        "  except:\r\n",
        "    house_year = np.nan\r\n",
        "  try:\r\n",
        "    area = driver.find_elements_by_class_name(\"offer__advert-short-info\")\r\n",
        "    area = area[2].text\r\n",
        "    if area[2] == 'и'or area[3] == 'и':\r\n",
        "      area = driver.find_elements_by_class_name(\"offer__advert-short-info\")\r\n",
        "      area = area[3].text\r\n",
        "  except: \r\n",
        "    area = np.nan\r\n",
        "  try:  \r\n",
        "    phone = driver.find_element_by_class_name('show-phones')\r\n",
        "    phone.click()\r\n",
        "    sleep(0.5)\r\n",
        "    phone = driver.find_element_by_class_name(\"offer__contacts-phones\").text\r\n",
        "  except: \r\n",
        "     phone = np.nan \r\n",
        "  url = links\r\n",
        "  if d != 'False link':\r\n",
        "    sell = {\r\n",
        "        'title' : title,\r\n",
        "        'price' : price,\r\n",
        "        'city' : city,\r\n",
        "        'author':author,\r\n",
        "        'house_year' : house_year,\r\n",
        "        'area' : area,\r\n",
        "        'phone' : phone,\r\n",
        "        'url' : url\r\n",
        "    }\r\n",
        "    apartments.append(sell)\r\n",
        "    print(sell)\r\n"
      ],
      "execution_count": 12,
      "outputs": [
        {
          "output_type": "stream",
          "text": [
            "{'title': '1-комнатная квартира, 43.84 м², Тауелсиздик 34/8', 'price': 'от 11 617 600 ', 'city': 'Нур-Султан (Астана)\\nпоказать на карте', 'author': 'Застройщик Жануя Инвест', 'house_year': 'кирпичный, 2022 г.п.', 'area': '43.84 м², жилая — 19.7 м², кухня — 13.6 м²', 'phone': '+7 778 017 1131', 'url': 'https://krisha.kz/a/show/663827406'}\n",
            "{'title': '3-комнатная квартира, 83 м², 7/16 этаж, Сауран 34 — Сыганак', 'price': '35 800 000 ', 'city': 'Нур-Султан (Астана), Есиль р-н\\nпоказать на карте', 'author': 'Кудышева Алия', 'house_year': '2021 г.п.', 'area': '83 м²', 'phone': '+7 778 850 9595', 'url': 'https://krisha.kz/a/show/664506815'}\n",
            "{'title': '4-комнатная квартира, 125.11 м², Туран — Улы Дала', 'price': 'от 40 035 200 ', 'city': 'Нур-Султан (Астана)\\nпоказать на карте', 'author': 'Застройщик Comfort Development', 'house_year': 'монолитный, 2021 г.п.', 'area': '125.11 м², жилая — 73.53 м², кухня — 13.68 м²', 'phone': '+7 778 021 1839', 'url': 'https://krisha.kz/a/show/663339909'}\n",
            "{'title': '1-комнатная квартира, 43.4 м², 2/3 этаж, Кургальжинское шоссе — Актамберды жырау', 'price': '7 161 000 ', 'city': 'Нур-Султан (Астана), Есиль р-н\\nпоказать на карте', 'author': 'Ant-Heap', 'house_year': '2021 г.п.', 'area': '43.4 м², кухня — 10 м²', 'phone': '+7 702 824 3797', 'url': 'https://krisha.kz/a/show/50457630'}\n",
            "{'title': '3-комнатная квартира, 107 м², 14/16 этаж, Иманбаевой 7В — Иманова', 'price': '33 900 000 ', 'city': 'Нур-Султан (Астана), р-н Байконур\\nпоказать на карте', 'author': 'Равдугина Елена Николаевна', 'house_year': 'кирпичный, 2010 г.п.', 'area': '107 м², кухня — 18 м²', 'phone': '+7 701 347 5505\\n+7 705 297 1990', 'url': 'https://krisha.kz/a/show/663481340'}\n",
            "{'title': '3-комнатная квартира, 84 м², 9/9 этаж, Абылай хана 49/3 — Мусрепова', 'price': '26 000 000 ', 'city': 'Нур-Султан (Астана), Алматы р-н\\nпоказать на карте', 'author': 'Хозяин недвижимости', 'house_year': 'кирпичный, 2010 г.п.', 'area': '84 м², жилая — 54.5 м², кухня — 10.3 м²', 'phone': '+7 702 907 0295', 'url': 'https://krisha.kz/a/show/662789746'}\n",
            "{'title': '1-комнатная квартира, 50.7 м², 9/12 этаж, Сарыарка 11 — Ул Кенесары', 'price': '18 900 000 ', 'city': 'Нур-Султан (Астана), Сарыарка р-н\\nпоказать на карте', 'author': 'Хозяин недвижимости', 'house_year': 'кирпичный, 2007 г.п.', 'area': '50.7 м², жилая — 20.4 м², кухня — 11.9 м²', 'phone': '+7 701 999 6874', 'url': 'https://krisha.kz/a/show/664335514'}\n",
            "{'title': '3-комнатная квартира, 85 м², 7/9 этаж, Нажимеденова 16', 'price': '35 000 000 ', 'city': 'Нур-Султан (Астана), Алматы р-н\\nпоказать на карте', 'author': 'Хозяин недвижимости', 'house_year': 'кирпичный, 2016 г.п.', 'area': '85 м², жилая — 55 м², кухня — 11 м²', 'phone': '+7 701 241 2177', 'url': 'https://krisha.kz/a/show/25247422'}\n",
            "{'title': '2-комнатная квартира, 42 м², 9/9 этаж, Кудайбердыулы 23 — Рыскулбекова', 'price': '15 900 000 ', 'city': 'Нур-Султан (Астана), Алматы р-н\\nпоказать на карте', 'author': 'Хозяин недвижимости', 'house_year': 'кирпичный, 2014 г.п.', 'area': '42 м²', 'phone': '+7 705 971 8392', 'url': 'https://krisha.kz/a/show/20164775'}\n",
            "{'title': '3-комнатная квартира, 59.1 м², 1/5 этаж, Потанина 12/1 — Молдагалова', 'price': '16 000 000 ', 'city': 'Нур-Султан (Астана), Сарыарка р-н\\nпоказать на карте', 'author': 'Хозяин недвижимости', 'house_year': '1975 г.п.', 'area': '59.1 м², жилая — 43.8 м², кухня — 6.6 м²', 'phone': '+7 701 610 9922', 'url': 'https://krisha.kz/a/show/664623435'}\n",
            "{'title': '1-комнатная квартира, 50 м², 14/22 этаж, Орынбор 1', 'price': '21 000 000 ', 'city': 'Нур-Султан (Астана), Есиль р-н\\nпоказать на карте', 'author': 'Хозяин недвижимости', 'house_year': 'монолитный, 2017 г.п.', 'area': '50 м²', 'phone': '+7 776 115 9603', 'url': 'https://krisha.kz/a/show/664597469'}\n",
            "{'title': '3-комнатная квартира, 61.5 м², 5/5 этаж, проспект Богенбай батыра 59 — Ш.Айманова', 'price': '16 900 000 ', 'city': 'Нур-Султан (Астана), Сарыарка р-н\\nпоказать на карте', 'author': 'Хозяин недвижимости', 'house_year': '1987 г.п.', 'area': '61.5 м²', 'phone': '+7 702 397 0097', 'url': 'https://krisha.kz/a/show/664591907'}\n",
            "{'title': '7-комнатная квартира, 800 м², 5/6 этаж, Жумабека Ташенова 10/2', 'price': '520 000 000 ', 'city': 'Нур-Султан (Астана), р-н Байконур\\nпоказать на карте', 'author': 'Хозяин недвижимости', 'house_year': 'кирпичный, 2018 г.п.', 'area': '800 м², кухня — 40 м²', 'phone': '+7 775 904 2823', 'url': 'https://krisha.kz/a/show/53785943'}\n",
            "{'title': '3-комнатная квартира, 80 м², 9/10 этаж, Мусрепова 6 — Абылай Хана', 'price': '25 500 000 ', 'city': 'Нур-Султан (Астана), Алматы р-н\\nпоказать на карте', 'author': 'Хозяин недвижимости', 'house_year': 'кирпичный, 2006 г.п.', 'area': '80 м², жилая — 60 м², кухня — 38 м²', 'phone': '+7 701 533 8835', 'url': 'https://krisha.kz/a/show/52970409'}\n",
            "{'title': '1-комнатная квартира, 38.69 м², 2/9 этаж, Коргалжынское шоссе — Чингиза Айтматова', 'price': '7 738 000 ', 'city': 'Нур-Султан (Астана), Есиль р-н\\nпоказать на карте', 'author': 'Оазис Астана', 'house_year': '2021 г.п.', 'area': '38.69 м², кухня — 9.31 м²', 'phone': '+7 701 440 0262', 'url': 'https://krisha.kz/a/show/663844447'}\n",
            "{'title': '1-комнатная квартира, 35 м², 20/22 этаж, Нажимеденова 10', 'price': '12 800 000 ', 'city': 'Нур-Султан (Астана)\\nпоказать на карте', 'author': 'Хозяин недвижимости', 'house_year': '2011 г.п.', 'area': '35 м²', 'phone': '+7 775 149 5613', 'url': 'https://krisha.kz/a/show/664542659'}\n",
            "{'title': '4-комнатная квартира, 120 м², 10/16 этаж, Отырар 4/2 — Габдуллина', 'price': '42 000 000 ', 'city': 'Нур-Султан (Астана), р-н Байконур\\nпоказать на карте', 'author': 'Хозяин недвижимости', 'house_year': 'иное, 2007 г.п.', 'area': '120 м², жилая — 78 м², кухня — 15 м²', 'phone': '+7 702 612 0129', 'url': 'https://krisha.kz/a/show/662907443'}\n",
            "{'title': '2-комнатная квартира, 70 м², 6/12 этаж, Ташенова 17/1', 'price': '21 500 000 ', 'city': 'Нур-Султан (Астана)\\nпоказать на карте', 'author': 'Неживых Людмила', 'house_year': '2006 г.п.', 'area': '70 м², жилая — 62 м², кухня — 13 м²', 'phone': '+7 771 046 6460\\n+7 701 726 3767', 'url': 'https://krisha.kz/a/show/664181912'}\n",
            "{'title': '4-комнатная квартира, 150 м², 1/7 этаж, А.Храпатый 25/2', 'price': '89 999 000 ', 'city': 'Нур-Султан (Астана), Алматы р-н\\nпоказать на карте', 'author': 'Хозяин недвижимости', 'house_year': 'панельный, 2018 г.п.', 'area': '150 м², жилая — 100 м², кухня — 18 м²', 'phone': '+7 702 384 1019', 'url': 'https://krisha.kz/a/show/664294492'}\n",
            "{'title': '1-комнатная квартира, 30.1 м², 2/5 этаж, Манаса 20/2', 'price': '12 000 000 ', 'city': 'Нур-Султан (Астана), Алматы р-н\\nпоказать на карте', 'author': 'Хозяин недвижимости', 'house_year': 'кирпичный, 2008 г.п.', 'area': '30.1 м², жилая — 20.3 м², кухня — 3.2 м²', 'phone': '+7 701 222 6246', 'url': 'https://krisha.kz/a/show/664343425'}\n",
            "{'title': '3-комнатная квартира, 143.55 м², Туран 5', 'price': 'от 67 468 500 ', 'city': 'Нур-Султан (Астана), Есиль р-н\\nпоказать на карте', 'author': 'Застройщик Sensata Group ТОО', 'house_year': 'монолитный, 2019 г.п.', 'area': '143.55 м², жилая — 79.3 м², кухня — 16.68 м²', 'phone': '+7 778 017 1138', 'url': 'https://krisha.kz/a/show/662743542'}\n",
            "{'title': '2-комнатная квартира, 46.1 м², Ч Айтматова 31', 'price': 'от 12 447 000 ', 'city': 'Нур-Султан (Астана)\\nпоказать на карте', 'author': 'Застройщик BASTAU BUILD GROUP', 'house_year': 'монолитный, 2021 г.п.', 'area': '46.1 м², жилая — 23 м², кухня — 9.3 м²', 'phone': '+7 778 021 1857', 'url': 'https://krisha.kz/a/show/661974540'}\n",
            "{'title': '2-комнатная квартира, 64.64 м², ул. А.Байтұрсынұлы — А 98', 'price': 'от 15 061 120 ', 'city': 'Нур-Султан (Астана)\\nпоказать на карте', 'author': 'Застройщик Оркен ЖСК', 'house_year': 'монолитный, 2021 г.п.', 'area': '64.64 м², жилая — 32.95 м², кухня — 12.54 м²', 'phone': '+7 778 017 1156', 'url': 'https://krisha.kz/a/show/662950126'}\n",
            "{'title': '4-комнатная квартира, 110 м², улица Кайыма Мухамедханова', 'price': '45 000 000 ', 'city': 'Нур-Султан (Астана), Есиль р-н\\nпоказать на карте', 'author': 'Adilkhan Auezov', 'house_year': 'кирпичный, 2016 г.п.', 'area': '110 м²', 'phone': '+7 708 186 4600', 'url': 'https://krisha.kz/a/show/664300848'}\n",
            "{'title': '2-комнатная квартира, 42 м², 3/5 этаж, Куйши Дина 1', 'price': '14 000 000 ', 'city': 'Нур-Султан (Астана), Алматы р-н\\nпоказать на карте', 'author': 'Хозяин недвижимости', 'house_year': 'панельный, 1970 г.п.', 'area': '42 м², жилая — 42 м², кухня — 6 м²', 'phone': '+7 701 700 0282', 'url': 'https://krisha.kz/a/show/664340225'}\n",
            "{'title': '2-комнатная квартира, 53.9 м², 7/7 этаж, ул е10 16/1', 'price': '20 000 000 ', 'city': 'Нур-Султан (Астана), Есиль р-н\\nпоказать на карте', 'author': 'Хозяин недвижимости', 'house_year': 'монолитный, 2015 г.п.', 'area': '53.9 м², жилая — 30 м², кухня — 8.9 м²', 'phone': '+7 701 486 3698', 'url': 'https://krisha.kz/a/show/664484316'}\n",
            "{'title': '3-комнатная квартира, 138 м², 6/6 этаж, Мухамедханова 9 — Туран', 'price': '64 000 000 ', 'city': 'Нур-Султан (Астана)\\nпоказать на карте', 'author': 'Хозяин недвижимости', 'house_year': 'кирпичный, 2014 г.п.', 'area': '138 м², жилая — 100 м², кухня — 18 м²', 'phone': '+7 700 717 0116', 'url': 'https://krisha.kz/a/show/661201963'}\n",
            "{'title': '2-комнатная квартира, 60.7 м², 14/17 этаж, Сатпаева 25 — Момышулы', 'price': '20 500 000 ', 'city': 'Нур-Султан (Астана), Алматы р-н\\nпоказать на карте', 'author': 'Хозяин недвижимости', 'house_year': 'монолитный, 2009 г.п.', 'area': '60.7 м², жилая — 33.1 м², кухня — 10.7 м²', 'phone': '+7 701 769 0808', 'url': 'https://krisha.kz/a/show/664494315'}\n",
            "{'title': '1-комнатная квартира, 20.5 м², 3/4 этаж, Мкр Коктал, Ардагерлер 36а', 'price': '4 250 000 ', 'city': 'Нур-Султан (Астана), Сарыарка р-н\\nпоказать на карте', 'author': 'Хозяин недвижимости', 'house_year': 'монолитный, 2014 г.п.', 'area': '20.5 м²', 'phone': '+7 707 455 3339', 'url': 'https://krisha.kz/a/show/664366437'}\n",
            "{'title': '4-комнатная квартира, 139.18 м², Туран 38/1', 'price': 'от 61 239 200 ', 'city': 'Нур-Султан (Астана), Есиль р-н\\nпоказать на карте', 'author': 'Застройщик Orda Invest', 'house_year': 'монолитный, 2020 г.п.', 'area': '139.18 м², жилая — 79.96 м², кухня — 14.45 м²', 'phone': '+7 778 017 1147', 'url': 'https://krisha.kz/a/show/663597793'}\n",
            "{'title': '2-комнатная квартира, 69.79 м², Туран — Е-10', 'price': 'от 23 645 699 ', 'city': 'Нур-Султан (Астана), Есиль р-н\\nпоказать на карте', 'author': 'Застройщик BI Group', 'house_year': 'монолитный, 2021 г.п.', 'area': '69.79 м², жилая — 33.9 м², кухня — 12.94 м²', 'phone': '+7 778 017 1157', 'url': 'https://krisha.kz/a/show/662936679'}\n",
            "{'title': '4-комнатная квартира, 126.84 м², Туран — Улы Дала', 'price': 'от 40 588 800 ', 'city': 'Нур-Султан (Астана)\\nпоказать на карте', 'author': 'Застройщик Comfort Development', 'house_year': 'монолитный, 2021 г.п.', 'area': '126.84 м², жилая — 71.93 м², кухня — 18.92 м²', 'phone': '+7 778 021 1839', 'url': 'https://krisha.kz/a/show/662766642'}\n",
            "{'title': '3-комнатная квартира, 123.05 м², Сарайшык 2 — Кунаева', 'price': 'от 54 078 278 ', 'city': 'Нур-Султан (Астана), Есиль р-н\\nпоказать на карте', 'author': 'Застройщик BI Group', 'house_year': 'монолитный, 2022 г.п.', 'area': '123.05 м²', 'phone': '+7 778 021 1851', 'url': 'https://krisha.kz/a/show/664438199'}\n",
            "{'title': '2-комнатная квартира, 77.92 м², Н. Хлудова 1', 'price': 'от 32 570 560 ', 'city': 'Нур-Султан (Астана)\\nпоказать на карте', 'author': 'Застройщик ТОО \"AC Estate\"', 'house_year': 'монолитный, 2019 г.п.', 'area': '77.92 м², жилая — 31.26 м², кухня — 9.07 м²', 'phone': '+7 778 021 1830', 'url': 'https://krisha.kz/a/show/663038402'}\n",
            "{'title': '1-комнатная квартира, 56.6 м², Айнакол 66/1', 'price': 'от 14 546 200 ', 'city': 'Нур-Султан (Астана), Алматы р-н\\nпоказать на карте', 'author': 'Застройщик Оркен ЖСК', 'house_year': 'монолитный, 2021 г.п.', 'area': '56.6 м², жилая — 27.37 м², кухня — 9.76 м²', 'phone': '+7 778 017 1145', 'url': 'https://krisha.kz/a/show/660077967'}\n",
            "{'title': '1-комнатная квартира, 36.17 м², Кенесары — Кумисбекова', 'price': 'от 10 670 150 ', 'city': 'Нур-Султан (Астана)\\nпоказать на карте', 'author': 'Застройщик ТОО Мерей Интер Курылыс', 'house_year': 'монолитный, 2021 г.п.', 'area': '36.17 м², жилая — 16.58 м², кухня — 8.96 м²', 'phone': '+7 778 017 1130', 'url': 'https://krisha.kz/a/show/664089472'}\n",
            "{'title': '2-комнатная квартира, 69.72 м², Касым Кайсенова — Фариза Онгарсынова', 'price': 'от 22 659 000 ', 'city': 'Нур-Султан (Астана)\\nпоказать на карте', 'author': 'Застройщик BI Group', 'house_year': 'монолитный, 2021 г.п.', 'area': '69.72 м², жилая — 37.24 м², кухня — 15.6 м²', 'phone': '+7 778 021 1810', 'url': 'https://krisha.kz/a/show/57491987'}\n",
            "{'title': '6-комнатная квартира, 262.38 м², 1 этаж, Зейна Шашкин 20', 'price': '103 640 495 ', 'city': 'Нур-Султан (Астана), Есиль р-н\\nпоказать на карте', 'author': 'Центр Недвижимости ВЫШКА', 'house_year': 'кирпичный, 2021 г.п.', 'area': nan, 'phone': '+7 775 598 3537', 'url': 'https://krisha.kz/a/show/664452204'}\n",
            "{'title': '2-комнатная квартира, 98 м², 17/19 этаж, Кенесары 65', 'price': '27 000 000 ', 'city': 'Нур-Султан (Астана), Алматы р-н\\nпоказать на карте', 'author': 'Хозяин недвижимости', 'house_year': 'кирпичный, 2009 г.п.', 'area': '98 м², жилая — 98 м²', 'phone': '+7 701 101 4774', 'url': 'https://krisha.kz/a/show/662655634'}\n",
            "{'title': '3-комнатная квартира, 70 м², 3/5 этаж, E319 2', 'price': '29 888 000 ', 'city': 'Нур-Султан (Астана), Есиль р-н\\nпоказать на карте', 'author': 'Хозяин недвижимости', 'house_year': 'кирпичный, 2016 г.п.', 'area': '70 м², жилая — 50 м², кухня — 11 м²', 'phone': '+7 706 616 6889', 'url': 'https://krisha.kz/a/show/664633942'}\n",
            "{'title': '1-комнатная квартира, 50 м², 3/12 этаж, Тлендиева 36', 'price': '14 500 000 ', 'city': 'Нур-Султан (Астана), Сарыарка р-н\\nпоказать на карте', 'author': 'Хозяин недвижимости', 'house_year': 'кирпичный, 2013 г.п.', 'area': '50 м², жилая — 35 м², кухня — 16.5 м²', 'phone': '+7 775 510 9812', 'url': 'https://krisha.kz/a/show/664580738'}\n",
            "{'title': '1-комнатная квартира, 51.56 м², 4/4 этаж, Улытау 44', 'price': '10 312 000 ', 'city': 'Нур-Султан (Астана), Есиль р-н\\nпоказать на карте', 'author': 'AIZ QURYLYS', 'house_year': 'кирпичный, 2019 г.п.', 'area': '51.56 м²', 'phone': '+7 747 094 0872', 'url': 'https://krisha.kz/a/show/663769231'}\n",
            "{'title': '3-комнатная квартира, 84.63 м², Ильяса Омарова — Е312', 'price': 'от 24 542 700 ', 'city': 'Нур-Султан (Астана), Есиль р-н\\nпоказать на карте', 'author': 'Застройщик ТОО Invest Building Kz', 'house_year': 'кирпичный, 2021 г.п.', 'area': '84.63 м², жилая — 49.04 м², кухня — 12.12 м²', 'phone': '+7 778 021 1870', 'url': 'https://krisha.kz/a/show/663163267'}\n",
            "{'title': '1-комнатная квартира, 41.88 м², Туран 89', 'price': 'от 10 051 200 ', 'city': 'Нур-Султан (Астана), Есиль р-н\\nпоказать на карте', 'author': 'Застройщик ТОО King Development', 'house_year': 'монолитный, 2021 г.п.', 'area': '41.88 м², жилая — 22.84 м², кухня — 9.75 м²', 'phone': '+7 778 021 1869', 'url': 'https://krisha.kz/a/show/663149429'}\n",
            "{'title': '4-комнатная квартира, 112 м², 7/12 этаж, Керей и Жанибек хана 1', 'price': '39 300 000 ', 'city': 'Нур-Султан (Астана), Есиль р-н\\nпоказать на карте', 'author': 'Центр Недвижимости ВЫШКА', 'house_year': 'монолитный, 2022 г.п.', 'area': '112 м², кухня — 14 м²', 'phone': '+7 775 598 3537', 'url': 'https://krisha.kz/a/show/664452103'}\n",
            "{'title': '1-комнатная квартира, 46 м², 17/24 этаж, Туран 55 — Керей Жанибек', 'price': '19 600 000 ', 'city': 'Нур-Султан (Астана)\\nпоказать на карте', 'author': 'Хозяин недвижимости', 'house_year': 'монолитный, 2016 г.п.', 'area': '46 м², жилая — 40 м², кухня — 10 м²', 'phone': '+7 702 280 8683', 'url': 'https://krisha.kz/a/show/664016352'}\n",
            "{'title': '3-комнатная квартира, 99 м², 8/12 этаж, Керей и Жанибек хандар 22 — Туркестан', 'price': '45 000 000 ', 'city': 'Нур-Султан (Астана), Есиль р-н\\nпоказать на карте', 'author': 'Хозяин недвижимости', 'house_year': 'монолитный, 2015 г.п.', 'area': '99 м², кухня — 14 м²', 'phone': '+7 747 506 7322', 'url': 'https://krisha.kz/a/show/664580333'}\n",
            "{'title': '3-комнатная квартира, 143 м², 7/10 этаж, Габдуллина 3 — Республики', 'price': '43 000 000 ', 'city': 'Нур-Султан (Астана), Алматы р-н\\nпоказать на карте', 'author': 'Хозяин недвижимости', 'house_year': 'кирпичный, 2008 г.п.', 'area': '143 м², жилая — 143 м², кухня — 25 м²', 'phone': '+7 777 877 8788', 'url': 'https://krisha.kz/a/show/21181679'}\n",
            "{'title': '3-комнатная квартира, 73.02 м², Каиыма Мухамедханова 4/4', 'price': 'от 21 540 900 ', 'city': 'Нур-Султан (Астана), Есиль р-н\\nпоказать на карте', 'author': 'Застройщик GarInvest', 'house_year': 'кирпичный, 2021 г.п.', 'area': '73.02 м², жилая — 45.36 м², кухня — 9.92 м²', 'phone': '+7 778 021 1822', 'url': 'https://krisha.kz/a/show/661605406'}\n",
            "{'title': '2-комнатная квартира, 51.65 м², Калдаякова 3', 'price': 'от 20 667 593 ', 'city': 'Нур-Султан (Астана)\\nпоказать на карте', 'author': 'Застройщик Highvill', 'house_year': 'монолитный, 2021 г.п.', 'area': '51.65 м², жилая — 31.29 м², кухня — 7.1 м²', 'phone': '+7 778 021 1827', 'url': 'https://krisha.kz/a/show/662794847'}\n",
            "{'title': '1-комнатная квартира, 36.58 м², Туран — Улы Дала', 'price': 'от 12 071 400 ', 'city': 'Нур-Султан (Астана)\\nпоказать на карте', 'author': 'Застройщик Comfort Development', 'house_year': 'монолитный, 2021 г.п.', 'area': '36.58 м², жилая — 16.76 м², кухня — 9.82 м²', 'phone': '+7 778 021 1839', 'url': 'https://krisha.kz/a/show/662549495'}\n",
            "{'title': '3-комнатная квартира, 101 м², 13/16 этаж, Акмешит — Керей Жанибек хандары', 'price': '42 500 000 ', 'city': 'Нур-Султан (Астана), Есиль р-н\\nпоказать на карте', 'author': 'Хозяин недвижимости', 'house_year': 'монолитный, 2015 г.п.', 'area': '101 м², жилая — 54.8 м², кухня — 18.8 м²', 'phone': '+7 702 226 3062', 'url': 'https://krisha.kz/a/show/662866389'}\n",
            "{'title': '3-комнатная квартира, 110 м², 14/15 этаж, Кабанбай батыра 48 — Керей Жанибек Хана', 'price': '51 000 000 ', 'city': 'Нур-Султан (Астана), Есиль р-н\\nпоказать на карте', 'author': 'Хозяин недвижимости', 'house_year': 'кирпичный, 2016 г.п.', 'area': '110 м², жилая — 108 м², кухня — 19 м²', 'phone': '+7 701 211 1386', 'url': 'https://krisha.kz/a/show/58150311'}\n",
            "{'title': '4-комнатная квартира, 110 м², 5/8 этаж, улица Касыма Кайсенова 4 — Улы Дала', 'price': '51 000 000 ', 'city': 'Нур-Султан (Астана), Есиль р-н\\nпоказать на карте', 'author': 'Хозяин недвижимости', 'house_year': 'кирпичный, 2017 г.п.', 'area': '110 м²', 'phone': '+7 701 807 0712\\n+7 775 999 2433', 'url': 'https://krisha.kz/a/show/664507815'}\n",
            "{'title': '1-комнатная квартира, 38.61 м², Ж.Нажимеденова — А51', 'price': 'от 10 231 650 ', 'city': 'Нур-Султан (Астана), Алматы р-н\\nпоказать на карте', 'author': 'Застройщик Grand Building Group', 'house_year': 'кирпичный, 2021 г.п.', 'area': '38.61 м², жилая — 16.99 м², кухня — 9.73 м²', 'phone': '+7 778 021 1826', 'url': 'https://krisha.kz/a/show/661606439'}\n",
            "{'title': '1-комнатная квартира, 33 м², 9/10 этаж, Иманова 42', 'price': '12 000 000 ', 'city': 'Нур-Султан (Астана), р-н Байконур\\nпоказать на карте', 'author': 'Хозяин недвижимости', 'house_year': 'монолитный, 2019 г.п.', 'area': '33 м², жилая — 28 м², кухня — 6 м²', 'phone': '+7 701 035 8087\\n+7 700 777 7617', 'url': 'https://krisha.kz/a/show/664363496'}\n",
            "{'title': '2-комнатная квартира, 76.6 м², 4/12 этаж, Мухамедханова', 'price': '33 500 000 ', 'city': 'Нур-Султан (Астана), Есиль р-н\\nпоказать на карте', 'author': 'Кудышева Алия', 'house_year': '2021 г.п.', 'area': '76.6 м²', 'phone': '+7 778 850 9595', 'url': 'https://krisha.kz/a/show/664538390'}\n",
            "{'title': '3-комнатная квартира, 87.8 м², 1/9 этаж, Рыскулбекова 7', 'price': '27 000 000 ', 'city': 'Нур-Султан (Астана), Алматы р-н\\nпоказать на карте', 'author': 'Хозяин недвижимости', 'house_year': 'кирпичный, 1999 г.п.', 'area': '87.8 м², кухня — 9.2 м²', 'phone': '+7 701 514 0436\\n+7 701 999 2225', 'url': 'https://krisha.kz/a/show/664257670'}\n",
            "{'title': '1-комнатная квартира, 31 м², 8/9 этаж, Сатпаева 31', 'price': '13 500 000 ', 'city': 'Нур-Султан (Астана), Алматы р-н\\nпоказать на карте', 'author': 'Хозяин недвижимости', 'house_year': 'иное, 2010 г.п.', 'area': '31 м², жилая — 15 м², кухня — 8.5 м²', 'phone': '+7 777 361 0815', 'url': 'https://krisha.kz/a/show/664451800'}\n",
            "{'title': '3-комнатная квартира, 81.4 м², 6/9 этаж, Е15 3', 'price': '26 100 000 ', 'city': 'Нур-Султан (Астана), Есиль р-н\\nпоказать на карте', 'author': 'Хозяин недвижимости', 'house_year': '2017 г.п.', 'area': '81.4 м², жилая — 52.5 м², кухня — 11.8 м²', 'phone': '+7 777 041 5151', 'url': 'https://krisha.kz/a/show/664438761'}\n",
            "{'title': '1-комнатная квартира, 46.22 м², 9/12 этаж, Айтматова — Мухамедханова', 'price': '14 500 000 ', 'city': 'Нур-Султан (Астана), Есиль р-н\\nпоказать на карте', 'author': 'Хозяин недвижимости', 'house_year': 'кирпичный, 2021 г.п.', 'area': '46.22 м², жилая — 46.22 м², кухня — 13.4 м²', 'phone': '+7 702 606 7677\\n+7 702 673 9395', 'url': 'https://krisha.kz/a/show/664310265'}\n",
            "{'title': '2-комнатная квартира, 106.5 м², 10/16 этаж, Керей и Жанибек хандар 22', 'price': '45 000 000 ', 'city': 'Нур-Султан (Астана), Есиль р-н\\nпоказать на карте', 'author': 'Хозяин недвижимости', 'house_year': 'монолитный, 2015 г.п.', 'area': '106.5 м², жилая — 58.3 м², кухня — 21.8 м²', 'phone': '+7 778 202 6720', 'url': 'https://krisha.kz/a/show/664287180'}\n",
            "{'title': '3-комнатная квартира, 109 м², 5/10 этаж, Кабанбай батыра 46 — Керей жанибек', 'price': '40 000 000 ', 'city': 'Нур-Султан (Астана), Есиль р-н\\nпоказать на карте', 'author': 'Хозяин недвижимости', 'house_year': '2016 г.п.', 'area': '109 м², жилая — 60 м², кухня — 19 м²', 'phone': '+7 771 163 0000', 'url': 'https://krisha.kz/a/show/664388411'}\n",
            "{'title': '1-комнатная квартира, 42.01 м², Туран — Улы Дала', 'price': 'от 13 863 300 ', 'city': 'Нур-Султан (Астана)\\nпоказать на карте', 'author': 'Застройщик Comfort Development', 'house_year': 'монолитный, 2021 г.п.', 'area': '42.01 м², жилая — 17.97 м², кухня — 9.84 м²', 'phone': '+7 778 021 1839', 'url': 'https://krisha.kz/a/show/662766637'}\n",
            "{'title': '2-комнатная квартира, 64.83 м², Сарайшык 2 — Кунаева', 'price': 'от 28 626 720 ', 'city': 'Нур-Султан (Астана), Есиль р-н\\nпоказать на карте', 'author': 'Застройщик BI Group', 'house_year': 'монолитный, 2022 г.п.', 'area': '64.83 м²', 'phone': '+7 778 021 1851', 'url': 'https://krisha.kz/a/show/664438189'}\n",
            "{'title': '1-комнатная квартира, 46.54 м², Туран 38/1', 'price': 'от 18 150 600 ', 'city': 'Нур-Султан (Астана), Есиль р-н\\nпоказать на карте', 'author': 'Застройщик Orda Invest', 'house_year': 'монолитный, 2020 г.п.', 'area': '46.54 м², жилая — 17.63 м², кухня — 14.4 м²', 'phone': '+7 778 017 1147', 'url': 'https://krisha.kz/a/show/663597788'}\n",
            "{'title': '2-комнатная квартира, 64.37 м², Н. Хлудова 1', 'price': 'от 25 748 000 ', 'city': 'Нур-Султан (Астана)\\nпоказать на карте', 'author': 'Застройщик ТОО \"AC Estate\"', 'house_year': 'монолитный, 2019 г.п.', 'area': '64.37 м², жилая — 30.3 м², кухня — 6 м²', 'phone': '+7 778 021 1830', 'url': 'https://krisha.kz/a/show/663038400'}\n",
            "{'title': '1-комнатная квартира, 43.77 м², Касым Кайсенова — Фариза Онгарсынова', 'price': 'от 14 002 023 ', 'city': 'Нур-Султан (Астана)\\nпоказать на карте', 'author': 'Застройщик BI Group', 'house_year': 'монолитный, 2021 г.п.', 'area': '43.77 м², жилая — 18.87 м², кухня — 12.89 м²', 'phone': '+7 778 021 1810', 'url': 'https://krisha.kz/a/show/57563989'}\n",
            "{'title': '3-комнатная квартира, 148.5 м², Туран 5', 'price': 'от 74 250 000 ', 'city': 'Нур-Султан (Астана), Есиль р-н\\nпоказать на карте', 'author': 'Застройщик Sensata Group ТОО', 'house_year': 'монолитный, 2019 г.п.', 'area': '148.5 м², жилая — 82.12 м², кухня — 16.7 м²', 'phone': '+7 778 017 1138', 'url': 'https://krisha.kz/a/show/662800429'}\n",
            "{'title': '2-комнатная квартира, 72.7 м², Туран — Е-10', 'price': 'от 24 201 830 ', 'city': 'Нур-Султан (Астана), Есиль р-н\\nпоказать на карте', 'author': 'Застройщик BI Group', 'house_year': 'монолитный, 2021 г.п.', 'area': '72.7 м², жилая — 36.98 м², кухня — 15.05 м²', 'phone': '+7 778 017 1157', 'url': 'https://krisha.kz/a/show/662936680'}\n",
            "{'title': '2-комнатная квартира, 42.4 м², Ч Айтматова 31', 'price': 'от 12 804 800 ', 'city': 'Нур-Султан (Астана)\\nпоказать на карте', 'author': 'Застройщик BASTAU BUILD GROUP', 'house_year': 'монолитный, 2021 г.п.', 'area': '42.4 м², жилая — 21.6 м², кухня — 11.5 м²', 'phone': '+7 778 021 1857', 'url': 'https://krisha.kz/a/show/661974533'}\n",
            "{'title': '2-комнатная квартира, 67.45 м², 10/16 этаж, Сауран 34', 'price': '33 000 000 ', 'city': 'Нур-Султан (Астана), Есиль р-н\\nпоказать на карте', 'author': 'Центр Недвижимости ВЫШКА', 'house_year': 'монолитный, 2020 г.п.', 'area': '67.45 м², кухня — 12.65 м²', 'phone': '+7 775 598 3537', 'url': 'https://krisha.kz/a/show/57256378'}\n",
            "{'title': '1-комнатная квартира, 51.3 м², 9/9 этаж, Жирентаева 2 — Майлина', 'price': '19 000 000 ', 'city': 'Нур-Султан (Астана), Алматы р-н\\nпоказать на карте', 'author': 'Хозяин недвижимости', 'house_year': 'кирпичный, 2007 г.п.', 'area': '51.3 м², жилая — 22.4 м², кухня — 11.8 м²', 'phone': '+7 701 501 1049\\n+7 701 999 4391', 'url': 'https://krisha.kz/a/show/664319974'}\n",
            "{'title': '1-комнатная квартира, 48 м², 9/12 этаж, Сарыарка 31/2', 'price': '18 000 000 ', 'city': 'Нур-Султан (Астана), Сарыарка р-н\\nпоказать на карте', 'author': 'Хозяин недвижимости', 'house_year': 'кирпичный, 2010 г.п.', 'area': '48 м², жилая — 47 м²', 'phone': '+7 771 588 2288', 'url': 'https://krisha.kz/a/show/664533440'}\n",
            "{'title': '3-комнатная квартира, 90 м², 9/11 этаж, Ыкылас Дукенулы 37/3', 'price': '24 300 000 ', 'city': 'Нур-Султан (Астана), Сарыарка р-н\\nпоказать на карте', 'author': 'Хозяин недвижимости', 'house_year': 'кирпичный, 2009 г.п.', 'area': '90 м², кухня — 11 м²', 'phone': '+7 775 192 0706', 'url': 'https://krisha.kz/a/show/664529060'}\n",
            "{'title': '1-комнатная квартира, 50.09 м², Тауелсиздик 34/8', 'price': 'от 13 273 850 ', 'city': 'Нур-Султан (Астана)\\nпоказать на карте', 'author': 'Застройщик Жануя Инвест', 'house_year': 'кирпичный, 2022 г.п.', 'area': '50.09 м², жилая — 19.9 м², кухня — 11.5 м²', 'phone': '+7 778 017 1131', 'url': 'https://krisha.kz/a/show/663827407'}\n",
            "{'title': '2-комнатная квартира, 57 м², 6/16 этаж, 38-ая 30', 'price': '21 000 000 ', 'city': 'Нур-Султан (Астана), Есиль р-н\\nпоказать на карте', 'author': 'Хозяин недвижимости', 'house_year': 'монолитный, 2018 г.п.', 'area': '57 м², кухня — 9 м²', 'phone': '+7 777 294 4385\\n+7 747 853 7708', 'url': 'https://krisha.kz/a/show/662517493'}\n",
            "{'title': '4-комнатная квартира, 127 м², 2/12 этаж, Кошкарбаева 46', 'price': '39 500 000 ', 'city': 'Нур-Султан (Астана), Алматы р-н\\nпоказать на карте', 'author': 'Astana Elite Home', 'house_year': '2011 г.п.', 'area': '127 м², жилая — 78 м², кухня — 13.6 м²', 'phone': '', 'url': 'https://krisha.kz/a/show/664540241'}\n",
            "{'title': '2-комнатная квартира, 60 м², 4/10 этаж, Керей, Жәнібек хандар 28', 'price': '25 000 000 ', 'city': 'Нур-Султан (Астана)\\nпоказать на карте', 'author': 'Хозяин недвижимости', 'house_year': '2017 г.п.', 'area': '60 м²', 'phone': '+7 702 818 1180', 'url': 'https://krisha.kz/a/show/664198141'}\n",
            "{'title': '2-комнатная квартира, 77 м², 5/14 этаж, Сатпаева 22', 'price': '27 000 000 ', 'city': 'Нур-Султан (Астана), Алматы р-н\\nпоказать на карте', 'author': 'Хозяин недвижимости', 'house_year': 'кирпичный, 2010 г.п.', 'area': '77 м², жилая — 61 м², кухня — 14 м²', 'phone': '+7 708 425 0506', 'url': 'https://krisha.kz/a/show/664181746'}\n",
            "{'title': '2-комнатная квартира, 61.55 м², Туран — Улы Дала', 'price': 'от 19 696 000 ', 'city': 'Нур-Султан (Астана)\\nпоказать на карте', 'author': 'Застройщик Comfort Development', 'house_year': 'монолитный, 2021 г.п.', 'area': '61.55 м², жилая — 36.73 м², кухня — 9.07 м²', 'phone': '+7 778 021 1839', 'url': 'https://krisha.kz/a/show/662766639'}\n",
            "{'title': '2-комнатная квартира, 45.5 м², 8/9 этаж, Богенбай батыра', 'price': '17 000 000 ', 'city': 'Нур-Султан (Астана), Сарыарка р-н\\nпоказать на карте', 'author': 'Хозяин недвижимости', 'house_year': 'кирпичный, 2004 г.п.', 'area': '45.5 м², жилая — 30 м², кухня — 9 м²', 'phone': '+7 707 776 3776', 'url': 'https://krisha.kz/a/show/664634552'}\n",
            "{'title': '4-комнатная квартира, 122 м², 4/11 этаж, Мухамедханова 4', 'price': '50 000 000 ', 'city': 'Нур-Султан (Астана), Есиль р-н\\nпоказать на карте', 'author': 'Хозяин недвижимости', 'house_year': 'монолитный, 2021 г.п.', 'area': '122 м², кухня — 17.3 м²', 'phone': '+7 705 555 5322\\n+7 747 437 0247', 'url': 'https://krisha.kz/a/show/664428024'}\n",
            "{'title': '3-комнатная квартира, 70.6 м², 5/10 этаж, Коргалжынское шоссе 16б', 'price': '14 120 000 ', 'city': 'Нур-Султан (Астана), Есиль р-н\\nпоказать на карте', 'author': 'Оазис Астана', 'house_year': '2021 г.п.', 'area': '70.6 м², кухня — 8 м²', 'phone': '+7 775 345 2822\\n+7 705 769 1131', 'url': 'https://krisha.kz/a/show/664047843'}\n",
            "{'title': '3-комнатная квартира, 113 м², 8/15 этаж, Алихана Бокейхана 16', 'price': '43 000 000 ', 'city': 'Нур-Султан (Астана)\\nпоказать на карте', 'author': 'Неживых Людмила', 'house_year': 'монолитный, 2006 г.п.', 'area': '113 м²', 'phone': '+7 771 046 6460\\n+7 701 726 3767', 'url': 'https://krisha.kz/a/show/664124752'}\n",
            "{'title': '2-комнатная квартира, 56 м², 1/10 этаж, Е-102 11', 'price': '23 000 000 ', 'city': 'Нур-Султан (Астана), Есиль р-н\\nпоказать на карте', 'author': 'Хозяин недвижимости', 'house_year': 'монолитный, 2018 г.п.', 'area': '56 м², жилая — 49 м², кухня — 9 м²', 'phone': '+7 701 357 9716', 'url': 'https://krisha.kz/a/show/664332150'}\n",
            "{'title': '1-комнатная квартира, 36 м², 8/10 этаж, Косшыгулулы 11', 'price': '12 700 000 ', 'city': 'Нур-Султан (Астана)\\nпоказать на карте', 'author': 'Хозяин недвижимости', 'house_year': 'кирпичный, 2010 г.п.', 'area': '36 м², кухня — 10.7 м²', 'phone': '+7 778 601 3373', 'url': 'https://krisha.kz/a/show/664607726'}\n",
            "{'title': '3-комнатная квартира, 102 м², 8/10 этаж, Азербайжана Мамбетова 8/3', 'price': '54 000 000 ', 'city': 'Нур-Султан (Астана), Сарыарка р-н\\nпоказать на карте', 'author': 'Хозяин недвижимости', 'house_year': '2000 г.п.', 'area': '102 м²', 'phone': '+7 702 265 3333', 'url': 'https://krisha.kz/a/show/664634437'}\n",
            "{'title': '1-комнатная квартира, 35 м², 6/9 этаж, Туран 42', 'price': '16 700 000 ', 'city': 'Нур-Султан (Астана), Есиль р-н\\nпоказать на карте', 'author': 'Хозяин недвижимости', 'house_year': 'кирпичный, 2020 г.п.', 'area': '35 м²', 'phone': '+7 701 532 7772', 'url': 'https://krisha.kz/a/show/664276536'}\n"
          ],
          "name": "stdout"
        }
      ]
    },
    {
      "cell_type": "code",
      "metadata": {
        "colab": {
          "base_uri": "https://localhost:8080/"
        },
        "id": "yQgSByjQXg5u",
        "outputId": "ca5117d5-3e8e-4631-a04d-5d71f3925234"
      },
      "source": [
        "len(apartments)"
      ],
      "execution_count": 14,
      "outputs": [
        {
          "output_type": "execute_result",
          "data": {
            "text/plain": [
              "89"
            ]
          },
          "metadata": {
            "tags": []
          },
          "execution_count": 14
        }
      ]
    },
    {
      "cell_type": "code",
      "metadata": {
        "id": "izjnsdPbYwLj",
        "colab": {
          "base_uri": "https://localhost:8080/",
          "height": 1000
        },
        "outputId": "4a3a2971-91f0-4618-c7ac-89733e43acbf"
      },
      "source": [
        "df = pd.DataFrame(apartments)\r\n",
        "df"
      ],
      "execution_count": 16,
      "outputs": [
        {
          "output_type": "execute_result",
          "data": {
            "text/html": [
              "<div>\n",
              "<style scoped>\n",
              "    .dataframe tbody tr th:only-of-type {\n",
              "        vertical-align: middle;\n",
              "    }\n",
              "\n",
              "    .dataframe tbody tr th {\n",
              "        vertical-align: top;\n",
              "    }\n",
              "\n",
              "    .dataframe thead th {\n",
              "        text-align: right;\n",
              "    }\n",
              "</style>\n",
              "<table border=\"1\" class=\"dataframe\">\n",
              "  <thead>\n",
              "    <tr style=\"text-align: right;\">\n",
              "      <th></th>\n",
              "      <th>title</th>\n",
              "      <th>price</th>\n",
              "      <th>city</th>\n",
              "      <th>author</th>\n",
              "      <th>house_year</th>\n",
              "      <th>area</th>\n",
              "      <th>phone</th>\n",
              "      <th>url</th>\n",
              "    </tr>\n",
              "  </thead>\n",
              "  <tbody>\n",
              "    <tr>\n",
              "      <th>0</th>\n",
              "      <td>1-комнатная квартира, 43.84 м², Тауелсиздик 34/8</td>\n",
              "      <td>от 11 617 600</td>\n",
              "      <td>Нур-Султан (Астана)\\nпоказать на карте</td>\n",
              "      <td>Застройщик Жануя Инвест</td>\n",
              "      <td>кирпичный, 2022 г.п.</td>\n",
              "      <td>43.84 м², жилая — 19.7 м², кухня — 13.6 м²</td>\n",
              "      <td>+7 778 017 1131</td>\n",
              "      <td>https://krisha.kz/a/show/663827406</td>\n",
              "    </tr>\n",
              "    <tr>\n",
              "      <th>1</th>\n",
              "      <td>3-комнатная квартира, 83 м², 7/16 этаж, Сауран...</td>\n",
              "      <td>35 800 000</td>\n",
              "      <td>Нур-Султан (Астана), Есиль р-н\\nпоказать на карте</td>\n",
              "      <td>Кудышева Алия</td>\n",
              "      <td>2021 г.п.</td>\n",
              "      <td>83 м²</td>\n",
              "      <td>+7 778 850 9595</td>\n",
              "      <td>https://krisha.kz/a/show/664506815</td>\n",
              "    </tr>\n",
              "    <tr>\n",
              "      <th>2</th>\n",
              "      <td>4-комнатная квартира, 125.11 м², Туран — Улы Дала</td>\n",
              "      <td>от 40 035 200</td>\n",
              "      <td>Нур-Султан (Астана)\\nпоказать на карте</td>\n",
              "      <td>Застройщик Comfort Development</td>\n",
              "      <td>монолитный, 2021 г.п.</td>\n",
              "      <td>125.11 м², жилая — 73.53 м², кухня — 13.68 м²</td>\n",
              "      <td>+7 778 021 1839</td>\n",
              "      <td>https://krisha.kz/a/show/663339909</td>\n",
              "    </tr>\n",
              "    <tr>\n",
              "      <th>3</th>\n",
              "      <td>1-комнатная квартира, 43.4 м², 2/3 этаж, Курга...</td>\n",
              "      <td>7 161 000</td>\n",
              "      <td>Нур-Султан (Астана), Есиль р-н\\nпоказать на карте</td>\n",
              "      <td>Ant-Heap</td>\n",
              "      <td>2021 г.п.</td>\n",
              "      <td>43.4 м², кухня — 10 м²</td>\n",
              "      <td>+7 702 824 3797</td>\n",
              "      <td>https://krisha.kz/a/show/50457630</td>\n",
              "    </tr>\n",
              "    <tr>\n",
              "      <th>4</th>\n",
              "      <td>3-комнатная квартира, 107 м², 14/16 этаж, Иман...</td>\n",
              "      <td>33 900 000</td>\n",
              "      <td>Нур-Султан (Астана), р-н Байконур\\nпоказать на...</td>\n",
              "      <td>Равдугина Елена Николаевна</td>\n",
              "      <td>кирпичный, 2010 г.п.</td>\n",
              "      <td>107 м², кухня — 18 м²</td>\n",
              "      <td>+7 701 347 5505\\n+7 705 297 1990</td>\n",
              "      <td>https://krisha.kz/a/show/663481340</td>\n",
              "    </tr>\n",
              "    <tr>\n",
              "      <th>...</th>\n",
              "      <td>...</td>\n",
              "      <td>...</td>\n",
              "      <td>...</td>\n",
              "      <td>...</td>\n",
              "      <td>...</td>\n",
              "      <td>...</td>\n",
              "      <td>...</td>\n",
              "      <td>...</td>\n",
              "    </tr>\n",
              "    <tr>\n",
              "      <th>84</th>\n",
              "      <td>3-комнатная квартира, 113 м², 8/15 этаж, Алиха...</td>\n",
              "      <td>43 000 000</td>\n",
              "      <td>Нур-Султан (Астана)\\nпоказать на карте</td>\n",
              "      <td>Неживых Людмила</td>\n",
              "      <td>монолитный, 2006 г.п.</td>\n",
              "      <td>113 м²</td>\n",
              "      <td>+7 771 046 6460\\n+7 701 726 3767</td>\n",
              "      <td>https://krisha.kz/a/show/664124752</td>\n",
              "    </tr>\n",
              "    <tr>\n",
              "      <th>85</th>\n",
              "      <td>2-комнатная квартира, 56 м², 1/10 этаж, Е-102 11</td>\n",
              "      <td>23 000 000</td>\n",
              "      <td>Нур-Султан (Астана), Есиль р-н\\nпоказать на карте</td>\n",
              "      <td>Хозяин недвижимости</td>\n",
              "      <td>монолитный, 2018 г.п.</td>\n",
              "      <td>56 м², жилая — 49 м², кухня — 9 м²</td>\n",
              "      <td>+7 701 357 9716</td>\n",
              "      <td>https://krisha.kz/a/show/664332150</td>\n",
              "    </tr>\n",
              "    <tr>\n",
              "      <th>86</th>\n",
              "      <td>1-комнатная квартира, 36 м², 8/10 этаж, Косшыг...</td>\n",
              "      <td>12 700 000</td>\n",
              "      <td>Нур-Султан (Астана)\\nпоказать на карте</td>\n",
              "      <td>Хозяин недвижимости</td>\n",
              "      <td>кирпичный, 2010 г.п.</td>\n",
              "      <td>36 м², кухня — 10.7 м²</td>\n",
              "      <td>+7 778 601 3373</td>\n",
              "      <td>https://krisha.kz/a/show/664607726</td>\n",
              "    </tr>\n",
              "    <tr>\n",
              "      <th>87</th>\n",
              "      <td>3-комнатная квартира, 102 м², 8/10 этаж, Азерб...</td>\n",
              "      <td>54 000 000</td>\n",
              "      <td>Нур-Султан (Астана), Сарыарка р-н\\nпоказать на...</td>\n",
              "      <td>Хозяин недвижимости</td>\n",
              "      <td>2000 г.п.</td>\n",
              "      <td>102 м²</td>\n",
              "      <td>+7 702 265 3333</td>\n",
              "      <td>https://krisha.kz/a/show/664634437</td>\n",
              "    </tr>\n",
              "    <tr>\n",
              "      <th>88</th>\n",
              "      <td>1-комнатная квартира, 35 м², 6/9 этаж, Туран 42</td>\n",
              "      <td>16 700 000</td>\n",
              "      <td>Нур-Султан (Астана), Есиль р-н\\nпоказать на карте</td>\n",
              "      <td>Хозяин недвижимости</td>\n",
              "      <td>кирпичный, 2020 г.п.</td>\n",
              "      <td>35 м²</td>\n",
              "      <td>+7 701 532 7772</td>\n",
              "      <td>https://krisha.kz/a/show/664276536</td>\n",
              "    </tr>\n",
              "  </tbody>\n",
              "</table>\n",
              "<p>89 rows × 8 columns</p>\n",
              "</div>"
            ],
            "text/plain": [
              "                                                title  ...                                 url\n",
              "0    1-комнатная квартира, 43.84 м², Тауелсиздик 34/8  ...  https://krisha.kz/a/show/663827406\n",
              "1   3-комнатная квартира, 83 м², 7/16 этаж, Сауран...  ...  https://krisha.kz/a/show/664506815\n",
              "2   4-комнатная квартира, 125.11 м², Туран — Улы Дала  ...  https://krisha.kz/a/show/663339909\n",
              "3   1-комнатная квартира, 43.4 м², 2/3 этаж, Курга...  ...   https://krisha.kz/a/show/50457630\n",
              "4   3-комнатная квартира, 107 м², 14/16 этаж, Иман...  ...  https://krisha.kz/a/show/663481340\n",
              "..                                                ...  ...                                 ...\n",
              "84  3-комнатная квартира, 113 м², 8/15 этаж, Алиха...  ...  https://krisha.kz/a/show/664124752\n",
              "85   2-комнатная квартира, 56 м², 1/10 этаж, Е-102 11  ...  https://krisha.kz/a/show/664332150\n",
              "86  1-комнатная квартира, 36 м², 8/10 этаж, Косшыг...  ...  https://krisha.kz/a/show/664607726\n",
              "87  3-комнатная квартира, 102 м², 8/10 этаж, Азерб...  ...  https://krisha.kz/a/show/664634437\n",
              "88    1-комнатная квартира, 35 м², 6/9 этаж, Туран 42  ...  https://krisha.kz/a/show/664276536\n",
              "\n",
              "[89 rows x 8 columns]"
            ]
          },
          "metadata": {
            "tags": []
          },
          "execution_count": 16
        }
      ]
    },
    {
      "cell_type": "code",
      "metadata": {
        "id": "HFeaHvGrYvvc"
      },
      "source": [
        "df.to_csv('file.csv')"
      ],
      "execution_count": 17,
      "outputs": []
    },
    {
      "cell_type": "code",
      "metadata": {
        "id": "TZNI-bk1XymG"
      },
      "source": [
        "for links in apartmentlinks"
      ],
      "execution_count": null,
      "outputs": []
    }
  ]
}